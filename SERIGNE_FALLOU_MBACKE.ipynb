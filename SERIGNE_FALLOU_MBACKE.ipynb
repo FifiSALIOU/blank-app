{
  "nbformat": 4,
  "nbformat_minor": 0,
  "metadata": {
    "colab": {
      "provenance": [],
      "authorship_tag": "ABX9TyMn9he2UY3zHrKPPdCJchRG",
      "include_colab_link": true
    },
    "kernelspec": {
      "name": "python3",
      "display_name": "Python 3"
    },
    "language_info": {
      "name": "python"
    }
  },
  "cells": [
    {
      "cell_type": "markdown",
      "metadata": {
        "id": "view-in-github",
        "colab_type": "text"
      },
      "source": [
        "<a href=\"https://colab.research.google.com/github/FifiSALIOU/blank-app/blob/main/SERIGNE_FALLOU_MBACKE.ipynb\" target=\"_parent\"><img src=\"https://colab.research.google.com/assets/colab-badge.svg\" alt=\"Open In Colab\"/></a>"
      ]
    },
    {
      "cell_type": "code",
      "execution_count": 2,
      "metadata": {
        "colab": {
          "base_uri": "https://localhost:8080/"
        },
        "id": "idXYfcb4_6Kz",
        "outputId": "ba21b468-8b9a-4a5d-af03-6c0781d2bd6e"
      },
      "outputs": [
        {
          "output_type": "stream",
          "name": "stdout",
          "text": [
            "Requirement already satisfied: mistralai in /usr/local/lib/python3.11/dist-packages (1.9.3)\n",
            "Requirement already satisfied: eval-type-backport>=0.2.0 in /usr/local/lib/python3.11/dist-packages (from mistralai) (0.2.2)\n",
            "Requirement already satisfied: httpx>=0.28.1 in /usr/local/lib/python3.11/dist-packages (from mistralai) (0.28.1)\n",
            "Requirement already satisfied: pydantic>=2.10.3 in /usr/local/lib/python3.11/dist-packages (from mistralai) (2.11.7)\n",
            "Requirement already satisfied: python-dateutil>=2.8.2 in /usr/local/lib/python3.11/dist-packages (from mistralai) (2.9.0.post0)\n",
            "Requirement already satisfied: typing-inspection>=0.4.0 in /usr/local/lib/python3.11/dist-packages (from mistralai) (0.4.1)\n",
            "Requirement already satisfied: anyio in /usr/local/lib/python3.11/dist-packages (from httpx>=0.28.1->mistralai) (4.10.0)\n",
            "Requirement already satisfied: certifi in /usr/local/lib/python3.11/dist-packages (from httpx>=0.28.1->mistralai) (2025.8.3)\n",
            "Requirement already satisfied: httpcore==1.* in /usr/local/lib/python3.11/dist-packages (from httpx>=0.28.1->mistralai) (1.0.9)\n",
            "Requirement already satisfied: idna in /usr/local/lib/python3.11/dist-packages (from httpx>=0.28.1->mistralai) (3.10)\n",
            "Requirement already satisfied: h11>=0.16 in /usr/local/lib/python3.11/dist-packages (from httpcore==1.*->httpx>=0.28.1->mistralai) (0.16.0)\n",
            "Requirement already satisfied: annotated-types>=0.6.0 in /usr/local/lib/python3.11/dist-packages (from pydantic>=2.10.3->mistralai) (0.7.0)\n",
            "Requirement already satisfied: pydantic-core==2.33.2 in /usr/local/lib/python3.11/dist-packages (from pydantic>=2.10.3->mistralai) (2.33.2)\n",
            "Requirement already satisfied: typing-extensions>=4.12.2 in /usr/local/lib/python3.11/dist-packages (from pydantic>=2.10.3->mistralai) (4.14.1)\n",
            "Requirement already satisfied: six>=1.5 in /usr/local/lib/python3.11/dist-packages (from python-dateutil>=2.8.2->mistralai) (1.17.0)\n",
            "Requirement already satisfied: sniffio>=1.1 in /usr/local/lib/python3.11/dist-packages (from anyio->httpx>=0.28.1->mistralai) (1.3.1)\n",
            "\u001b[31mERROR: Could not find a version that satisfies the requirement faiss-gpu (from versions: none)\u001b[0m\u001b[31m\n",
            "\u001b[0m\u001b[31mERROR: No matching distribution found for faiss-gpu\u001b[0m\u001b[31m\n",
            "\u001b[0mRequirement already satisfied: faiss-cpu in /usr/local/lib/python3.11/dist-packages (1.11.0.post1)\n",
            "Requirement already satisfied: numpy<3.0,>=1.25.0 in /usr/local/lib/python3.11/dist-packages (from faiss-cpu) (2.0.2)\n",
            "Requirement already satisfied: packaging in /usr/local/lib/python3.11/dist-packages (from faiss-cpu) (25.0)\n",
            "Requirement already satisfied: PyPDF2 in /usr/local/lib/python3.11/dist-packages (3.0.1)\n"
          ]
        }
      ],
      "source": [
        "%pip install mistralai\n",
        "%pip install faiss-gpu\n",
        "%pip install faiss-cpu\n",
        "%pip install PyPDF2\n",
        "import os\n",
        "from mistralai import Mistral\n",
        "import numpy as np\n",
        "import faiss\n",
        "from getpass import getpass\n",
        "import pickle\n",
        "import json"
      ]
    },
    {
      "cell_type": "code",
      "source": [
        "api_key = getpass(\"Entrez votre clé API Mistral:\")\n",
        "client = Mistral(api_key=api_key)"
      ],
      "metadata": {
        "colab": {
          "base_uri": "https://localhost:8080/"
        },
        "id": "gfd6DeUQ_-4S",
        "outputId": "9b5514c3-e965-484c-8ab9-76fa8b3243ea"
      },
      "execution_count": 3,
      "outputs": [
        {
          "name": "stdout",
          "output_type": "stream",
          "text": [
            "Entrez votre clé API Mistral:··········\n"
          ]
        }
      ]
    },
    {
      "cell_type": "code",
      "source": [
        "# =============================================================================\n",
        "# Fonction pour charger un fichier texte ou PDF\n",
        "def load_file(file_path):\n",
        "    _, ext = os.path.splitext(file_path)\n",
        "    if ext.lower() == '.txt':\n",
        "        with open(file_path, 'r', encoding='utf-8') as f:\n",
        "            return f.read()\n",
        "    elif ext.lower() == '.pdf':\n",
        "        import PyPDF2\n",
        "        text = \"\"\n",
        "        with open(file_path, 'rb') as f:\n",
        "            reader = PyPDF2.PdfReader(f)\n",
        "            for page_num in range(len(reader.pages)):\n",
        "                text += reader.pages[page_num].extract_text()\n",
        "        return text\n",
        "    else:\n",
        "        raise ValueError(\"Format de fichier non supporté. Utilisez .txt ou .pdf\")\n",
        "\n",
        "# Fonction pour charger plusieurs fichiers\n",
        "def load_multiple_files(file_paths):\n",
        "    all_texts = []\n",
        "    file_sources = []\n",
        "\n",
        "    for file_path in file_paths:\n",
        "        print(f\"Chargement du fichier : {file_path}\")\n",
        "        try:\n",
        "            text = load_file(file_path)\n",
        "            all_texts.append(text)\n",
        "            file_sources.append(os.path.basename(file_path))\n",
        "            print(f\"✅ Fichier chargé avec succès : {len(text)} caractères\")\n",
        "        except Exception as e:\n",
        "            print(f\"❌ Erreur lors du chargement de {file_path}: {e}\")\n",
        "\n",
        "    return all_texts, file_sources\n",
        "\n",
        "# Fonction pour créer des embeddings\n",
        "def get_text_embedding(input):\n",
        "    response = client.embeddings.create(\n",
        "        model=\"mistral-embed\",\n",
        "        inputs=input\n",
        "    )\n",
        "    return response.data[0].embedding"
      ],
      "metadata": {
        "id": "U4gSBjBYACjA"
      },
      "execution_count": 28,
      "outputs": []
    },
    {
      "cell_type": "code",
      "source": [
        "# AJOUTEZ VOS FICHIERS ICI\n",
        "file_paths = [\n",
        "    '/content/scan document001.pdf'\n",
        "    '/content/POUR LES METIERS DE LA CAISSE DE SECUTITE SOCIALE.pdf',\n",
        "    '/content/faq_metiers.pdf',\n",
        "    # Ajoutez autant de fichiers que vous voulez\n",
        "]\n",
        "\n",
        "print(\"Fichiers à traiter :\", file_paths)"
      ],
      "metadata": {
        "colab": {
          "base_uri": "https://localhost:8080/"
        },
        "id": "fSjRl97PAKUt",
        "outputId": "adf89e8c-c01a-4fb1-8976-c8f5b0dedcd1"
      },
      "execution_count": 41,
      "outputs": [
        {
          "output_type": "stream",
          "name": "stdout",
          "text": [
            "Fichiers à traiter : ['/content/scan document001.pdf/content/POUR LES METIERS DE LA CAISSE DE SECUTITE SOCIALE.pdf', '/content/faq_metiers.pdf']\n"
          ]
        }
      ]
    },
    {
      "cell_type": "code",
      "source": [
        "# Charger tous les fichiers\n",
        "all_texts, file_sources = load_multiple_files(file_paths)\n",
        "\n",
        "# Paramètres\n",
        "chunk_size = 2048\n",
        "\n",
        "# Créer les chunks avec leur source\n",
        "all_chunks = []\n",
        "chunk_sources = []\n",
        "\n",
        "for i, text in enumerate(all_texts):\n",
        "    file_chunks = [text[j:j + chunk_size] for j in range(0, len(text), chunk_size)]\n",
        "    all_chunks.extend(file_chunks)\n",
        "    chunk_sources.extend([file_sources[i]] * len(file_chunks))\n",
        "\n",
        "print(\"Nombre total de blocs :\", len(all_chunks))\n",
        "print(\"Fichiers traités :\", file_sources)"
      ],
      "metadata": {
        "colab": {
          "base_uri": "https://localhost:8080/"
        },
        "id": "oFsInxiHAO98",
        "outputId": "0d7d673f-6e32-42b6-a92e-ab9825c9b3d4"
      },
      "execution_count": 42,
      "outputs": [
        {
          "output_type": "stream",
          "name": "stdout",
          "text": [
            "Chargement du fichier : /content/scan document001.pdf/content/POUR LES METIERS DE LA CAISSE DE SECUTITE SOCIALE.pdf\n",
            "❌ Erreur lors du chargement de /content/scan document001.pdf/content/POUR LES METIERS DE LA CAISSE DE SECUTITE SOCIALE.pdf: [Errno 20] Not a directory: '/content/scan document001.pdf/content/POUR LES METIERS DE LA CAISSE DE SECUTITE SOCIALE.pdf'\n",
            "Chargement du fichier : /content/faq_metiers.pdf\n",
            "✅ Fichier chargé avec succès : 1639 caractères\n",
            "Nombre total de blocs : 1\n",
            "Fichiers traités : ['faq_metiers.pdf']\n"
          ]
        }
      ]
    },
    {
      "cell_type": "code",
      "source": [
        "# Sauvegarder les chunks et leurs sources\n",
        "with open('rag_data.pkl', 'wb') as f:\n",
        "    pickle.dump({\n",
        "        'chunks': all_chunks,\n",
        "        'chunk_sources': chunk_sources,\n",
        "        'file_sources': file_sources\n",
        "    }, f)\n",
        "\n",
        "# Sauvegarder aussi en format texte lisible\n",
        "combined_text = \"\\n\\n--- NOUVEAU FICHIER ---\\n\\n\".join(all_texts)\n",
        "with open('loaded_texts_combined.txt', 'w', encoding='utf-8') as f:\n",
        "    f.write(combined_text)\n",
        "\n",
        "print(\"✅ Données textuelles sauvegardées dans 'rag_data.pkl' et 'loaded_texts_combined.txt'\")"
      ],
      "metadata": {
        "colab": {
          "base_uri": "https://localhost:8080/"
        },
        "id": "8CDns6zfATx8",
        "outputId": "b4335a20-10f8-4452-8e4c-7a77bcc92384"
      },
      "execution_count": 43,
      "outputs": [
        {
          "output_type": "stream",
          "name": "stdout",
          "text": [
            "✅ Données textuelles sauvegardées dans 'rag_data.pkl' et 'loaded_texts_combined.txt'\n"
          ]
        }
      ]
    },
    {
      "cell_type": "code",
      "source": [
        "# =============================================================================\n",
        "print(\"Création des embeddings...\")\n",
        "text_embeddings = np.array([get_text_embedding(chunk) for chunk in all_chunks])\n",
        "\n",
        "# Créer et remplir l'index FAISS\n",
        "d = text_embeddings.shape[1]\n",
        "index = faiss.IndexFlatL2(d)\n",
        "index.add(text_embeddings)\n",
        "\n",
        "print(\"✅ Base vectorielle créée avec succès !\")\n",
        "print(f\"Dimensions des embeddings : {d}\")\n",
        "print(f\"Nombre de vecteurs dans l'index : {index.ntotal}\")"
      ],
      "metadata": {
        "colab": {
          "base_uri": "https://localhost:8080/"
        },
        "id": "nNcZyWdSAdor",
        "outputId": "ab3a432d-6c31-40a8-cf0a-91c9a3add37e"
      },
      "execution_count": 44,
      "outputs": [
        {
          "output_type": "stream",
          "name": "stdout",
          "text": [
            "Création des embeddings...\n",
            "✅ Base vectorielle créée avec succès !\n",
            "Dimensions des embeddings : 1024\n",
            "Nombre de vecteurs dans l'index : 1\n"
          ]
        }
      ]
    },
    {
      "cell_type": "code",
      "source": [
        "# =============================================================================\n",
        "# Sauvegarder l'index FAISS\n",
        "faiss.write_index(index, \"rag_faiss_index.index\")\n",
        "\n",
        "# Sauvegarder les embeddings aussi\n",
        "np.save('text_embeddings.npy', text_embeddings)\n",
        "\n",
        "print(\"✅ Index FAISS sauvegardé dans 'rag_faiss_index.index'\")\n",
        "print(\"✅ Embeddings sauvegardés dans 'text_embeddings.npy'\")"
      ],
      "metadata": {
        "colab": {
          "base_uri": "https://localhost:8080/"
        },
        "id": "QWcYK_p5AhOr",
        "outputId": "cf5992c2-2789-4a15-fccc-f8008b1ae0ae"
      },
      "execution_count": 45,
      "outputs": [
        {
          "output_type": "stream",
          "name": "stdout",
          "text": [
            "✅ Index FAISS sauvegardé dans 'rag_faiss_index.index'\n",
            "✅ Embeddings sauvegardés dans 'text_embeddings.npy'\n"
          ]
        }
      ]
    },
    {
      "cell_type": "code",
      "source": [
        "def poser_question(question):\n",
        "    question_embeddings = np.array([get_text_embedding(question)])\n",
        "    D, I = index.search(question_embeddings, k=2)\n",
        "    retrieved_chunks = []\n",
        "    sources = []\n",
        "\n",
        "    for i in I[0].tolist():\n",
        "        retrieved_chunks.append(all_chunks[i])\n",
        "        sources.append(chunk_sources[i])\n",
        "\n",
        "    return retrieved_chunks, sources\n",
        "\n",
        "def generer_reponse(question):\n",
        "    retrieved_chunks, sources = poser_question(question)\n",
        "\n",
        "    prompt = f\"\"\"\n",
        "Context information is below.\n",
        "---------------------\n",
        "{retrieved_chunks[0]}\n",
        "---------------------\n",
        "Given the context information and not prior knowledge, answer the query.\n",
        "Query: {question}\n",
        "Answer:\n",
        "\"\"\"\n",
        "\n",
        "    response = client.chat.complete(\n",
        "        model=\"mistral-large-latest\",\n",
        "        messages=[{\"role\": \"user\", \"content\": prompt}]\n",
        "    )\n",
        "\n",
        "    return response.choices[0].message.content, sources\n",
        "\n",
        "print(\"✅ Fonctions de recherche définies\")"
      ],
      "metadata": {
        "colab": {
          "base_uri": "https://localhost:8080/"
        },
        "id": "0k1X8KGuAky-",
        "outputId": "cbea8539-3135-4e9d-ba16-3bc1762c89c1"
      },
      "execution_count": 46,
      "outputs": [
        {
          "output_type": "stream",
          "name": "stdout",
          "text": [
            "✅ Fonctions de recherche définies\n"
          ]
        }
      ]
    },
    {
      "cell_type": "code",
      "source": [
        "# =============================================================================\n",
        "question = \"Quels sont les documents à fournir pour une demande d’immatriculation pour un employeur du régime domestique ?\"\n",
        "reponse, sources = generer_reponse(question)\n",
        "\n",
        "print(\"QUESTION :\", question)\n",
        "print(\"RÉPONSE :\")\n",
        "print(reponse)\n"
      ],
      "metadata": {
        "colab": {
          "base_uri": "https://localhost:8080/"
        },
        "id": "4iOM0wZKAqUa",
        "outputId": "0f8ca652-aac1-479b-caed-8f39ce24bcb2"
      },
      "execution_count": 53,
      "outputs": [
        {
          "output_type": "stream",
          "name": "stdout",
          "text": [
            "QUESTION : Quels sont les documents à fournir pour une demande d’immatriculation pour un employeur du régime domestique ?\n",
            "RÉPONSE :\n",
            "D'après le contexte fourni, les documents à fournir pour une demande d'immatriculation pour un employeur du régime domestique ne sont pas explicitement détaillés. Cependant, en se basant sur la liste générale des documents demandés pour les employeurs, voici ceux qui pourraient s'appliquer à un employeur de personnel domestique :\n",
            "\n",
            "- **Copie de la Carte Nationale d’Identité (CNI) ou extrait de naissance** (pour l'employeur et les salariés).\n",
            "- **Contrats de travail** (si applicable).\n",
            "- **Déclaration de mouvement de travailleur visée par l’Inspection du travail** (si nécessaire).\n",
            "\n",
            "Les autres documents mentionnés (comme les statuts, le NINEA, ou le registre de commerce) concernent davantage les entreprises ou structures formelles, et ne sont donc probablement pas requis pour un employeur domestique.\n",
            "\n",
            "Pour une réponse précise, il serait conseillé de consulter directement le site **CSS-IPRES** ou de contacter leurs services.\n"
          ]
        }
      ]
    },
    {
      "cell_type": "code",
      "source": [
        "print(\"\\n\" + \"=\"*50)\n",
        "print(\"🎉 VOTRE RAG EST MAINTENANT PRÊT ET SAUVEGARDÉ !\")\n",
        "print(\"Vous pouvez poser d'autres questions :\")\n",
        "print(\"=\"*50)\n",
        "\n",
        "def mode_interactif():\n",
        "    while True:\n",
        "        nouvelle_question = input(\"\\nPosez votre question (ou 'quit' pour arrêter) : \")\n",
        "        if nouvelle_question.lower() in ['quit', 'exit', 'stop']:\n",
        "            break\n",
        "\n",
        "        reponse, sources = generer_reponse(nouvelle_question)\n",
        "\n",
        "        print(\"\\nRÉPONSE :\")\n",
        "        print(reponse)\n",
        "        print(f\"Source(s) : {', '.join(set(sources))}\")"
      ],
      "metadata": {
        "colab": {
          "base_uri": "https://localhost:8080/"
        },
        "id": "TAohMQS4AtS0",
        "outputId": "58afa55f-4b7d-4b13-926a-95ffcb928aa6"
      },
      "execution_count": null,
      "outputs": [
        {
          "output_type": "stream",
          "name": "stdout",
          "text": [
            "\n",
            "==================================================\n",
            "🎉 VOTRE RAG EST MAINTENANT PRÊT ET SAUVEGARDÉ !\n",
            "Vous pouvez poser d'autres questions :\n",
            "==================================================\n"
          ]
        }
      ]
    },
    {
      "cell_type": "code",
      "source": [
        "# =============================================================================\n",
        "def recharger_rag():\n",
        "    \"\"\"\n",
        "    Fonction pour recharger le RAG dans une nouvelle session\n",
        "    \"\"\"\n",
        "    global all_chunks, chunk_sources, file_sources, index, text_embeddings\n",
        "\n",
        "    # Recharger les données\n",
        "    with open('rag_data.pkl', 'rb') as f:\n",
        "        data = pickle.load(f)\n",
        "        all_chunks = data['chunks']\n",
        "        chunk_sources = data['chunk_sources']\n",
        "        file_sources = data['file_sources']\n",
        "\n",
        "    # Recharger l'index FAISS\n",
        "    index = faiss.read_index(\"rag_faiss_index.index\")\n",
        "\n",
        "    # Recharger les embeddings\n",
        "    text_embeddings = np.load('text_embeddings.npy')\n",
        "\n",
        "    print(\"✅ RAG rechargé avec succès !\")\n",
        "    print(f\"Chunks : {len(all_chunks)}\")\n",
        "    print(f\"Index FAISS : {index.ntotal} vecteurs\")\n",
        "    print(f\"Fichiers sources : {file_sources}\")\n",
        "\n",
        "    return True\n",
        "\n",
        "print(\"✅ Fonction de rechargement définie\")\n",
        "print(\"\\nPour recharger dans une nouvelle session, utilisez : recharger_rag()\")"
      ],
      "metadata": {
        "id": "WE_757aiAxDg"
      },
      "execution_count": null,
      "outputs": []
    },
    {
      "cell_type": "code",
      "source": [
        "# CELLULE 14 : Résumé et instructions\n",
        "# =============================================================================\n",
        "print(\"\\n\" + \"=\"*60)\n",
        "print(\"📋 RÉSUMÉ DE VOTRE RAG MULTI-FICHIERS\")\n",
        "print(\"=\"*60)\n",
        "print(f\"✅ Fichiers traités : {len(file_sources)}\")\n",
        "print(f\"✅ Chunks créés : {len(all_chunks)}\")\n",
        "print(f\"✅ Vecteurs dans l'index : {index.ntotal}\")\n",
        "print(f\"✅ Fichiers sauvegardés :\")\n",
        "print(\"   - rag_data.pkl (chunks et métadonnées)\")\n",
        "print(\"   - rag_faiss_index.index (index vectoriel)\")\n",
        "print(\"   - text_embeddings.npy (embeddings)\")\n",
        "print(\"   - loaded_texts_combined.txt (texte combiné)\")\n",
        "\n",
        "print(\"\\n📝 POUR LES PROCHAINES SESSIONS :\")\n",
        "print(\"1. Exécutez les cellules 1-4 (imports et fonctions)\")\n",
        "print(\"2. Exécutez la cellule 3 (authentification)\")\n",
        "print(\"3. Exécutez la cellule 13 puis appelez recharger_rag()\")\n",
        "print(\"4. Utilisez generer_reponse(votre_question)\")\n",
        "\n",
        "print(\"\\n🔄 POUR AJOUTER DE NOUVEAUX FICHIERS :\")\n",
        "print(\"1. Modifiez la liste file_paths dans la cellule 5\")\n",
        "print(\"2. Réexécutez les cellules 5-12\")"
      ],
      "metadata": {
        "id": "zG489qU7A49V"
      },
      "execution_count": null,
      "outputs": []
    }
  ]
}